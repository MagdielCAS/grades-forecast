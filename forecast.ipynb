{
 "cells": [
  {
   "cell_type": "code",
   "execution_count": null,
   "metadata": {},
   "outputs": [],
   "source": [
    "import pandas as pd\n",
    "import seaborn as sns\n",
    "import numpy as np\n",
    "from sklearn.neural_network import MLPRegressor"
   ]
  },
  {
   "cell_type": "code",
   "execution_count": null,
   "metadata": {},
   "outputs": [],
   "source": [
    "df_test = pd.read_csv('./data/test.csv')\n",
    "df_train = pd.read_csv('./data/train.csv')\n",
    "print(\"data size\")\n",
    "print(df_train.size)\n",
    "#histogram before cleaning\n",
    "sns.distplot(df_train['NU_NOTA_MT']);"
   ]
  },
  {
   "cell_type": "code",
   "execution_count": null,
   "metadata": {},
   "outputs": [],
   "source": [
    "#remove outliers\n",
    "df_clean = df_train.query('TP_PRESENCA_MT == 1 & NU_NOTA_MT > 0').reindex()\n",
    "print(\"data size\")\n",
    "print(df_clean.size)\n",
    "#histogram cleaned\n",
    "sns.distplot(df_clean['NU_NOTA_MT']);"
   ]
  },
  {
   "cell_type": "code",
   "execution_count": null,
   "metadata": {},
   "outputs": [],
   "source": [
    "df_train['NU_NOTA_MT'].describe()"
   ]
  },
  {
   "cell_type": "code",
   "execution_count": null,
   "metadata": {},
   "outputs": [],
   "source": [
    "df_clean['NU_NOTA_MT'].describe()"
   ]
  },
  {
   "cell_type": "code",
   "execution_count": null,
   "metadata": {},
   "outputs": [],
   "source": [
    "print(\"Skewness: %f\" % df_train['NU_NOTA_MT'].skew())\n",
    "print(\"Kurtosis: %f\" % df_train['NU_NOTA_MT'].kurt())"
   ]
  },
  {
   "cell_type": "code",
   "execution_count": null,
   "metadata": {},
   "outputs": [],
   "source": [
    "print(\"Skewness: %f\" % df_clean['NU_NOTA_MT'].skew())\n",
    "print(\"Kurtosis: %f\" % df_clean['NU_NOTA_MT'].kurt())"
   ]
  },
  {
   "cell_type": "code",
   "execution_count": null,
   "metadata": {},
   "outputs": [],
   "source": [
    "#get train data\n",
    "answers = df_clean.filter(items=['TX_RESPOSTAS_MT','TX_GABARITO_MT'])\n",
    "grades = np.asarray(df_clean['NU_NOTA_MT']).astype(float)\n",
    "#parse vectorize strings\n",
    "answers['TX_RESPOSTAS_MT'] = answers['TX_RESPOSTAS_MT'].map(lambda str : np.asarray(list(ord(char) for char in str)).astype(float))\n",
    "answers['TX_GABARITO_MT'] = answers['TX_GABARITO_MT'].map(lambda str : np.asarray(list(ord(char) for char in str)).astype(float))\n",
    "#normalize values\n",
    "answers_normalized = np.multiply(np.multiply(np.absolute(np.subtract(answers['TX_RESPOSTAS_MT'], answers['TX_GABARITO_MT'])),-1) + 4,1/4)\n",
    "answers_normalized = np.asarray(answers_normalized)"
   ]
  },
  {
   "cell_type": "code",
   "execution_count": null,
   "metadata": {
    "tags": [
     "outputPrepend",
     "outputPrepend",
     "outputPrepend",
     "outputPrepend",
     "outputPrepend",
     "outputPrepend",
     "outputPrepend"
    ]
   },
   "outputs": [],
   "source": [
    "#using mlp to handle the regression\n",
    "regr = MLPRegressor(random_state=1, max_iter=500).fit(answers_normalized, grades)\n",
    "#get test data\n",
    "answers_to_test = df_test.filter(items=['TX_GABARITO_MT'])\n",
    "regr.predict(answers_to_test[:2])"
   ]
  },
  {
   "cell_type": "code",
   "execution_count": null,
   "metadata": {},
   "outputs": [],
   "source": []
  }
 ],
 "metadata": {
  "kernelspec": {
   "display_name": "Python 3",
   "language": "python",
   "name": "python3"
  },
  "language_info": {
   "codemirror_mode": {
    "name": "ipython",
    "version": 3
   },
   "file_extension": ".py",
   "mimetype": "text/x-python",
   "name": "python",
   "nbconvert_exporter": "python",
   "pygments_lexer": "ipython3",
   "version": "3.7.6-final"
  }
 },
 "nbformat": 4,
 "nbformat_minor": 4
}